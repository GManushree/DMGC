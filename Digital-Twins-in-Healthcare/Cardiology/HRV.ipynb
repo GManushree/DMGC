{
 "cells": [
  {
   "cell_type": "code",
   "execution_count": 4,
   "metadata": {},
   "outputs": [],
   "source": [
    "import numpy as np\n",
    "import pandas as pd\n",
    "from sklearn.ensemble import RandomForestClassifier\n",
    "from sklearn.model_selection import train_test_split\n",
    "from sklearn.metrics import accuracy_score\n"
   ]
  },
  {
   "cell_type": "code",
   "execution_count": 5,
   "metadata": {},
   "outputs": [],
   "source": [
    "# Example synthetic heart rate data\n",
    "np.random.seed(0)\n",
    "heart_rate_data = pd.DataFrame({\n",
    "    'heart_rate': np.random.normal(75, 10, 1000)  # Simulate a normal distribution of heart rates\n",
    "})\n"
   ]
  },
  {
   "cell_type": "code",
   "execution_count": 6,
   "metadata": {},
   "outputs": [],
   "source": [
    "def calculate_nn_intervals(heart_rate):\n",
    "    # Approximate NN intervals in milliseconds\n",
    "    nn_intervals = 60000 / heart_rate  # 60,000 ms in a minute divided by heart rate\n",
    "    return nn_intervals\n",
    "\n",
    "def calculate_sdnn(nn_intervals):\n",
    "    return np.std(nn_intervals)\n",
    "\n",
    "def calculate_rmssd(nn_intervals):\n",
    "    diff_nn_intervals = np.diff(nn_intervals)\n",
    "    return np.sqrt(np.mean(diff_nn_intervals ** 2))\n"
   ]
  },
  {
   "cell_type": "markdown",
   "metadata": {},
   "source": [
    "We’ll assign labels based on heart rate ranges commonly associated with each condition:\n",
    "\n",
    "- Normal: 60–100 bpm\n",
    "- Tachycardia: >100 bpm\n",
    "- Arrhythmia: Fluctuations or inconsistencies (simulated here by sudden jumps in heart rate)"
   ]
  },
  {
   "cell_type": "code",
   "execution_count": 7,
   "metadata": {},
   "outputs": [
    {
     "data": {
      "text/plain": [
       "np.float64(125.8548738664509)"
      ]
     },
     "execution_count": 7,
     "metadata": {},
     "output_type": "execute_result"
    }
   ],
   "source": [
    "max(np.random.normal(110, 5, 600))"
   ]
  },
  {
   "cell_type": "code",
   "execution_count": 8,
   "metadata": {},
   "outputs": [],
   "source": [
    "\n",
    "import numpy as np\n",
    "import pandas as pd\n",
    "\n",
    "heart_rate_data = pd.DataFrame(columns=['heart_rate', 'condition'])\n",
    "\n",
    "# Generate normal heart rates (60-100 bpm)\n",
    "normal_rates = np.random.normal(75, 5, 600)\n",
    "normal_df = pd.DataFrame({\n",
    "    'heart_rate': normal_rates,\n",
    "    'condition': 0  # Label 'Normal'\n",
    "})\n",
    "\n",
    "# Generate tachycardia heart rates (>100 bpm)\n",
    "tachycardia_rates = np.random.normal(110, 5, 200)\n",
    "tachycardia_df = pd.DataFrame({\n",
    "    'heart_rate': tachycardia_rates,\n",
    "    'condition': 2  # Label 'Tachycardia'\n",
    "})\n",
    "\n",
    "# Generate arrhythmia heart rates with fluctuations (random jumps)\n",
    "arrhythmia_rates = np.concatenate([\n",
    "    np.random.normal(75, 5, 100),\n",
    "    np.random.normal(110, 5, 100),\n",
    "    np.random.normal(65, 5, 100)\n",
    "])\n",
    "arrhythmia_df = pd.DataFrame({\n",
    "    'heart_rate': arrhythmia_rates,\n",
    "    'condition': 1  # Label 'Arrhythmia'\n",
    "})\n",
    "\n",
    "# Concatenate all the data into a single DataFrame\n",
    "heart_rate_data = pd.concat([normal_df, tachycardia_df, arrhythmia_df], ignore_index=True)\n",
    "\n",
    "# Shuffle the data to avoid order bias\n",
    "heart_rate_data = heart_rate_data.sample(frac=1, random_state=0).reset_index(drop=True)\n"
   ]
  },
  {
   "cell_type": "code",
   "execution_count": 9,
   "metadata": {},
   "outputs": [],
   "source": [
    "# Calculate NN intervals for each heart rate row\n",
    "heart_rate_data['nn_intervals'] = heart_rate_data['heart_rate'].apply(lambda x: calculate_nn_intervals(x))\n",
    "\n",
    "# Generate mock sequences for each row to calculate HRV metrics (for demo purposes)\n",
    "# Assume 10 NN intervals for each row around the given heart rate to calculate HRV metrics\n",
    "\n",
    "def generate_nn_sequence(heart_rate):\n",
    "    # Simulate a series of NN intervals around a base heart rate to calculate HRV metrics\n",
    "    base_nn_interval = 60000 / heart_rate\n",
    "    simulated_variability = np.random.normal(0, 50, 10)  # Adding slight variation to simulate heartbeat changes\n",
    "    nn_sequence = base_nn_interval + simulated_variability\n",
    "    return nn_sequence\n",
    "\n",
    "# Apply the above function to generate NN sequences for HRV calculation\n",
    "heart_rate_data['nn_sequence'] = heart_rate_data['heart_rate'].apply(generate_nn_sequence)\n",
    "\n",
    "# Calculate SDNN and RMSSD using the generated NN sequences\n",
    "heart_rate_data['sdnn'] = heart_rate_data['nn_sequence'].apply(calculate_sdnn)\n",
    "heart_rate_data['rmssd'] = heart_rate_data['nn_sequence'].apply(calculate_rmssd)\n",
    "\n",
    "# Drop 'nn_sequence' column if you only want SDNN and RMSSD in the final output\n",
    "heart_rate_data = heart_rate_data.drop(columns=['nn_sequence'])\n",
    "\n"
   ]
  },
  {
   "cell_type": "code",
   "execution_count": 10,
   "metadata": {},
   "outputs": [
    {
     "data": {
      "text/html": [
       "<div>\n",
       "<style scoped>\n",
       "    .dataframe tbody tr th:only-of-type {\n",
       "        vertical-align: middle;\n",
       "    }\n",
       "\n",
       "    .dataframe tbody tr th {\n",
       "        vertical-align: top;\n",
       "    }\n",
       "\n",
       "    .dataframe thead th {\n",
       "        text-align: right;\n",
       "    }\n",
       "</style>\n",
       "<table border=\"1\" class=\"dataframe\">\n",
       "  <thead>\n",
       "    <tr style=\"text-align: right;\">\n",
       "      <th></th>\n",
       "      <th>heart_rate</th>\n",
       "      <th>condition</th>\n",
       "      <th>nn_intervals</th>\n",
       "      <th>sdnn</th>\n",
       "      <th>rmssd</th>\n",
       "    </tr>\n",
       "  </thead>\n",
       "  <tbody>\n",
       "    <tr>\n",
       "      <th>0</th>\n",
       "      <td>75.488754</td>\n",
       "      <td>0</td>\n",
       "      <td>794.820378</td>\n",
       "      <td>49.445604</td>\n",
       "      <td>39.989432</td>\n",
       "    </tr>\n",
       "    <tr>\n",
       "      <th>1</th>\n",
       "      <td>70.324364</td>\n",
       "      <td>1</td>\n",
       "      <td>853.189373</td>\n",
       "      <td>34.553710</td>\n",
       "      <td>39.953771</td>\n",
       "    </tr>\n",
       "    <tr>\n",
       "      <th>2</th>\n",
       "      <td>77.524850</td>\n",
       "      <td>0</td>\n",
       "      <td>773.945387</td>\n",
       "      <td>58.361376</td>\n",
       "      <td>82.363114</td>\n",
       "    </tr>\n",
       "    <tr>\n",
       "      <th>3</th>\n",
       "      <td>109.578884</td>\n",
       "      <td>2</td>\n",
       "      <td>547.550751</td>\n",
       "      <td>39.743684</td>\n",
       "      <td>61.925848</td>\n",
       "    </tr>\n",
       "    <tr>\n",
       "      <th>4</th>\n",
       "      <td>65.871865</td>\n",
       "      <td>1</td>\n",
       "      <td>910.859284</td>\n",
       "      <td>53.629759</td>\n",
       "      <td>57.659527</td>\n",
       "    </tr>\n",
       "    <tr>\n",
       "      <th>...</th>\n",
       "      <td>...</td>\n",
       "      <td>...</td>\n",
       "      <td>...</td>\n",
       "      <td>...</td>\n",
       "      <td>...</td>\n",
       "    </tr>\n",
       "    <tr>\n",
       "      <th>1095</th>\n",
       "      <td>70.120825</td>\n",
       "      <td>1</td>\n",
       "      <td>855.665921</td>\n",
       "      <td>39.048972</td>\n",
       "      <td>53.092758</td>\n",
       "    </tr>\n",
       "    <tr>\n",
       "      <th>1096</th>\n",
       "      <td>103.891118</td>\n",
       "      <td>2</td>\n",
       "      <td>577.527713</td>\n",
       "      <td>34.335340</td>\n",
       "      <td>52.631999</td>\n",
       "    </tr>\n",
       "    <tr>\n",
       "      <th>1097</th>\n",
       "      <td>64.946089</td>\n",
       "      <td>1</td>\n",
       "      <td>923.843163</td>\n",
       "      <td>50.915443</td>\n",
       "      <td>86.451015</td>\n",
       "    </tr>\n",
       "    <tr>\n",
       "      <th>1098</th>\n",
       "      <td>67.550335</td>\n",
       "      <td>0</td>\n",
       "      <td>888.226536</td>\n",
       "      <td>46.721986</td>\n",
       "      <td>60.835532</td>\n",
       "    </tr>\n",
       "    <tr>\n",
       "      <th>1099</th>\n",
       "      <td>111.195435</td>\n",
       "      <td>2</td>\n",
       "      <td>539.590495</td>\n",
       "      <td>42.701541</td>\n",
       "      <td>50.425742</td>\n",
       "    </tr>\n",
       "  </tbody>\n",
       "</table>\n",
       "<p>1100 rows × 5 columns</p>\n",
       "</div>"
      ],
      "text/plain": [
       "      heart_rate  condition  nn_intervals       sdnn      rmssd\n",
       "0      75.488754          0    794.820378  49.445604  39.989432\n",
       "1      70.324364          1    853.189373  34.553710  39.953771\n",
       "2      77.524850          0    773.945387  58.361376  82.363114\n",
       "3     109.578884          2    547.550751  39.743684  61.925848\n",
       "4      65.871865          1    910.859284  53.629759  57.659527\n",
       "...          ...        ...           ...        ...        ...\n",
       "1095   70.120825          1    855.665921  39.048972  53.092758\n",
       "1096  103.891118          2    577.527713  34.335340  52.631999\n",
       "1097   64.946089          1    923.843163  50.915443  86.451015\n",
       "1098   67.550335          0    888.226536  46.721986  60.835532\n",
       "1099  111.195435          2    539.590495  42.701541  50.425742\n",
       "\n",
       "[1100 rows x 5 columns]"
      ]
     },
     "execution_count": 10,
     "metadata": {},
     "output_type": "execute_result"
    }
   ],
   "source": [
    "heart_rate_data"
   ]
  },
  {
   "cell_type": "code",
   "execution_count": 11,
   "metadata": {},
   "outputs": [],
   "source": [
    "heart_rate_data.to_csv('HRV.csv', index=False)"
   ]
  },
  {
   "cell_type": "code",
   "execution_count": 12,
   "metadata": {},
   "outputs": [],
   "source": [
    "# Select features and labels\n",
    "X = heart_rate_data[['heart_rate', 'sdnn', 'rmssd']]\n",
    "y = heart_rate_data['condition']\n",
    "\n",
    "# Split data into training and test sets\n",
    "X_train, X_test, y_train, y_test = train_test_split(X, y, test_size=0.2, random_state=0)\n"
   ]
  },
  {
   "cell_type": "code",
   "execution_count": null,
   "metadata": {},
   "outputs": [
    {
     "name": "stdout",
     "output_type": "stream",
     "text": [
      "Accuracy with Realistic Labels: 74.55%\n"
     ]
    }
   ],
   "source": [
    "# Train RandomForestClassifier\n",
    "rf_model = RandomForestClassifier(n_estimators=100, random_state=0)\n",
    "rf_model.fit(X_train, y_train)\n",
    "\n",
    "# Make predictions and evaluate\n",
    "y_pred = rf_model.predict(X_test)\n",
    "accuracy = accuracy_score(y_test, y_pred)\n",
    "print(f'Accuracy with Realistic Labels: {accuracy * 100:.2f}%')\n"
   ]
  },
  {
   "cell_type": "markdown",
   "metadata": {},
   "source": [
    "Testing"
   ]
  },
  {
   "cell_type": "code",
   "execution_count": 25,
   "metadata": {},
   "outputs": [],
   "source": [
    "def generate_custom_test_data(heart_rate):\n",
    "    # Generate the NN sequence based on the provided heart rate\n",
    "    nn_sequence = generate_nn_sequence(heart_rate)\n",
    "    \n",
    "    # Calculate SDNN and RMSSD\n",
    "    sdnn = calculate_sdnn(nn_sequence)\n",
    "    rmssd = calculate_rmssd(nn_sequence)\n",
    "    \n",
    "    # Create the custom test data row as a dictionary\n",
    "    custom_test_data = {\n",
    "        'heart_rate': [heart_rate],\n",
    "        'sdnn': [sdnn],\n",
    "        'rmssd': [rmssd]\n",
    "    }\n",
    "    \n",
    "    # Return the custom data as a pandas DataFrame\n",
    "    return pd.DataFrame(custom_test_data)"
   ]
  },
  {
   "cell_type": "code",
   "execution_count": 30,
   "metadata": {},
   "outputs": [],
   "source": [
    "test_data = generate_custom_test_data(120)"
   ]
  },
  {
   "cell_type": "code",
   "execution_count": 33,
   "metadata": {},
   "outputs": [
    {
     "data": {
      "text/plain": [
       "np.int64(2)"
      ]
     },
     "execution_count": 33,
     "metadata": {},
     "output_type": "execute_result"
    }
   ],
   "source": [
    "rf_model.predict(test_data)[0]"
   ]
  },
  {
   "cell_type": "code",
   "execution_count": 34,
   "metadata": {},
   "outputs": [
    {
     "data": {
      "image/png": "[encoded data removed]",
      "text/plain": [
       "<Figure size 640x480 with 2 Axes>"
      ]
     },
     "metadata": {},
     "output_type": "display_data"
    }
   ],
   "source": [
    "import matplotlib.pyplot as plt\n",
    "from sklearn.metrics import confusion_matrix, ConfusionMatrixDisplay\n",
    "\n",
    "# Confusion matrix\n",
    "cm = confusion_matrix(y_test, y_pred, labels=rf_model.classes_)\n",
    "ConfusionMatrixDisplay(cm, display_labels=['Normal', 'Arrhythmia', 'Tachycardia']).plot()\n",
    "plt.title(\"Confusion Matrix\")\n",
    "plt.show()\n"
   ]
  }
 ],
 "metadata": {
  "kernelspec": {
   "display_name": "Python 3",
   "language": "python",
   "name": "python3"
  },
  "language_info": {
   "codemirror_mode": {
    "name": "ipython",
    "version": 3
   },
   "file_extension": ".py",
   "mimetype": "text/x-python",
   "name": "python",
   "nbconvert_exporter": "python",
   "pygments_lexer": "ipython3",
   "version": "3.12.2"
  }
 },
 "nbformat": 4,
 "nbformat_minor": 2
}
